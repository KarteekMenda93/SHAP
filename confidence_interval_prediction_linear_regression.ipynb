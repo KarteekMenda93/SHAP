{
  "nbformat": 4,
  "nbformat_minor": 0,
  "metadata": {
    "colab": {
      "name": "confidence interval prediction linear regression.ipynb",
      "provenance": [],
      "collapsed_sections": []
    },
    "kernelspec": {
      "name": "python3",
      "display_name": "Python 3"
    },
    "language_info": {
      "name": "python"
    }
  },
  "cells": [
    {
      "cell_type": "code",
      "metadata": {
        "id": "FWijtDUUumWo",
        "colab": {
          "base_uri": "https://localhost:8080/"
        },
        "outputId": "3a1d7f96-e60b-4696-cb15-75e4f5eeb9b1"
      },
      "source": [
        "!wget https://github.com/bnsreenu/python_for_image_processing_APEER/blob/master/tutorial120_applying_trained_unet_model_to_large_images.ipynb"
      ],
      "execution_count": null,
      "outputs": [
        {
          "output_type": "stream",
          "text": [
            "--2021-08-25 05:14:03--  https://github.com/bnsreenu/python_for_image_processing_APEER/blob/master/tutorial120_applying_trained_unet_model_to_large_images.ipynb\n",
            "Resolving github.com (github.com)... 140.82.112.3\n",
            "Connecting to github.com (github.com)|140.82.112.3|:443... connected.\n",
            "HTTP request sent, awaiting response... 200 OK\n",
            "Length: unspecified [text/html]\n",
            "Saving to: ‘tutorial120_applying_trained_unet_model_to_large_images.ipynb’\n",
            "\n",
            "tutorial120_applyin     [ <=>                ] 125.87K  --.-KB/s    in 0.04s   \n",
            "\n",
            "2021-08-25 05:14:03 (3.16 MB/s) - ‘tutorial120_applying_trained_unet_model_to_large_images.ipynb’ saved [128891]\n",
            "\n"
          ],
          "name": "stdout"
        }
      ]
    },
    {
      "cell_type": "code",
      "metadata": {
        "id": "-Dnd4DffqMt6"
      },
      "source": [
        "from sklearn.model_selection import train_test_split\n",
        "import pandas as pd\n",
        "import numpy as np\n",
        "from sklearn import datasets\n",
        "from scipy import stats \n",
        "import seaborn as sns\n",
        "from sklearn.linear_model import LinearRegression"
      ],
      "execution_count": null,
      "outputs": []
    },
    {
      "cell_type": "code",
      "metadata": {
        "id": "Q5HciOAFzeN3"
      },
      "source": [
        "print(datasets.load_boston()['DESCR'])"
      ],
      "execution_count": null,
      "outputs": []
    },
    {
      "cell_type": "code",
      "metadata": {
        "id": "ibgQsWlGzhm9"
      },
      "source": [
        "df = pd.DataFrame(datasets.load_boston()['data'])\n",
        "df.columns = datasets.load_boston()['feature_names']\n",
        "df['target'] = datasets.load_boston()['target']\n",
        "df.describe()"
      ],
      "execution_count": null,
      "outputs": []
    },
    {
      "cell_type": "code",
      "metadata": {
        "id": "-a4RYHilzhkl"
      },
      "source": [
        "#split data\n",
        "X_train, X_test, y_train, y_test = train_test_split(\n",
        "    df.drop('target',axis=1), df.target, test_size=0.2, random_state=42)\n",
        "\n",
        "#do modeling\n",
        "model = LinearRegression()\n",
        "fit_model = model.fit(X_train, y_train)\n",
        "predictions = fit_model.predict(X_test)"
      ],
      "execution_count": null,
      "outputs": []
    },
    {
      "cell_type": "code",
      "metadata": {
        "id": "5tmMZmWn0293"
      },
      "source": [
        "predictions"
      ],
      "execution_count": null,
      "outputs": []
    },
    {
      "cell_type": "code",
      "metadata": {
        "colab": {
          "base_uri": "https://localhost:8080/"
        },
        "id": "Pz02UJOXzhdt",
        "outputId": "31679d1d-1bc1-4b89-a595-e75fee938910"
      },
      "source": [
        "predictions[0]"
      ],
      "execution_count": null,
      "outputs": [
        {
          "output_type": "execute_result",
          "data": {
            "text/plain": [
              "28.996723619824934"
            ]
          },
          "metadata": {},
          "execution_count": 6
        }
      ]
    },
    {
      "cell_type": "markdown",
      "metadata": {
        "id": "7S3zswXq1jVV"
      },
      "source": [
        "# Custom Method for prediction with confidence interval"
      ]
    },
    {
      "cell_type": "code",
      "metadata": {
        "colab": {
          "base_uri": "https://localhost:8080/"
        },
        "id": "gOKk_TyczhaO",
        "outputId": "ca773833-5b3a-4c81-a7f0-7fc3d5b371a3"
      },
      "source": [
        "def get_prediction_interval(prediction, y_test, test_predictions, pi=.90):\n",
        "\n",
        "  '''\n",
        "    Get a prediction interval for a linear regression.\n",
        "    \n",
        "    INPUTS: \n",
        "        - Single prediction, \n",
        "        - y_test\n",
        "        - All test set predictions,\n",
        "        - Prediction interval threshold (default = .95) \n",
        "    OUTPUT: \n",
        "        - Prediction interval for single prediction\n",
        "    '''\n",
        "  #get standard deviation of y_test\n",
        "  sum_errs = np.sum((y_test - test_predictions)**2)\n",
        "  stdev = np.sqrt(1 / (len(y_test) - 2) * sum_errs)\n",
        "\n",
        "  #get interval from standard deviation\n",
        "  one_minus_pi = 1 - pi\n",
        "  ppf_lookup = 1 - (one_minus_pi / 2)\n",
        "  z_score = stats.norm.ppf(ppf_lookup)\n",
        "  interval = z_score * stdev\n",
        "\n",
        "  #generate prediction interval lower and upper bound\n",
        "  lower, upper = prediction - interval, prediction + interval\n",
        "\n",
        "  return pi, lower, prediction, upper\n",
        "\n",
        "\n",
        "\n",
        "pi, lower_bound, predicted_value, upper_bound = get_prediction_interval(predictions[0], y_test, predictions)\n",
        "print('True value(predicted value) is %.2f and %.1f percent likelihood that the true value is between %.2f and %.2f' % (predicted_value,(pi*100),lower_bound, upper_bound))"
      ],
      "execution_count": null,
      "outputs": [
        {
          "output_type": "stream",
          "name": "stdout",
          "text": [
            "True value(predicted value) is 29.00 and 90.0 percent likelihood that the true value is between 20.81 and 37.18\n"
          ]
        }
      ]
    },
    {
      "cell_type": "code",
      "source": [
        ""
      ],
      "metadata": {
        "id": "qqY2yAT3xiDT"
      },
      "execution_count": null,
      "outputs": []
    }
  ]
}